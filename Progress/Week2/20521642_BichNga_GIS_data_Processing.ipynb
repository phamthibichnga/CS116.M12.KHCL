{
  "nbformat": 4,
  "nbformat_minor": 0,
  "metadata": {
    "colab": {
      "provenance": []
    },
    "kernelspec": {
      "name": "python3",
      "display_name": "Python 3"
    },
    "language_info": {
      "name": "python"
    }
  },
  "cells": [
    {
      "cell_type": "markdown",
      "source": [
        "## Phạm Thị Bích Nga - MSSV : 20521642  - Lớp : CS116.N11.KHCL\n",
        "### Bài tập : Xử lý dữ liệu GIS\n",
        "\n",
        "Bước 1: Cài đặt thư viện geopandas\n",
        "\n",
        "Bước 2: git clone https://github.com/CityScope/CSL_HCMC\n",
        "Bước 3: dùng geopandas để đọc shapefile trong /Data/GIS/Population/population_HCMC/population_shapefile/Population_Ward_Level.shp\n",
        "\n",
        "Bước 4: hãy thực hiện các tác vụ truy vấn sau\n",
        "- Phường nào có diện tích lớn nhất\n",
        "- Phường nào có dân số 2019 (Pop_2019) cao nhất\n",
        "- Phường nào có diện tích nhỏ nhất\n",
        "- Phường nào có dân số thấp nhất (2019)\n",
        "- Phường nào có tốc độ tăng trưởng dân số nhanh nhất (dựa trên Pop_2009 và Pop_2019)\n",
        "- Phường nào có tốc độ tăng trưởng dân số thấp nhất\n",
        "- Phường nào có biến động dân số nhanh nhất\n",
        "- Phường nào có biến động dân số chậm nhất\n",
        "- Phường nào có mật độ dân số cao nhất (2019)\n",
        "- Phường nào có mật độ dân số thấp nhất (2019)"
      ],
      "metadata": {
        "id": "gOL1JDI1Z9YR"
      }
    },
    {
      "cell_type": "code",
      "execution_count": 1,
      "metadata": {
        "colab": {
          "base_uri": "https://localhost:8080/"
        },
        "id": "dvXxqQd-6mU7",
        "outputId": "440c3b9b-8c1e-4e56-92b7-32db60fb1142"
      },
      "outputs": [
        {
          "output_type": "stream",
          "name": "stdout",
          "text": [
            "Looking in indexes: https://pypi.org/simple, https://us-python.pkg.dev/colab-wheels/public/simple/\n",
            "Requirement already satisfied: geopandas in /usr/local/lib/python3.7/dist-packages (0.10.2)\n",
            "Requirement already satisfied: fiona>=1.8 in /usr/local/lib/python3.7/dist-packages (from geopandas) (1.8.21)\n",
            "Requirement already satisfied: shapely>=1.6 in /usr/local/lib/python3.7/dist-packages (from geopandas) (1.8.4)\n",
            "Requirement already satisfied: pyproj>=2.2.0 in /usr/local/lib/python3.7/dist-packages (from geopandas) (3.2.1)\n",
            "Requirement already satisfied: pandas>=0.25.0 in /usr/local/lib/python3.7/dist-packages (from geopandas) (1.3.5)\n",
            "Requirement already satisfied: click-plugins>=1.0 in /usr/local/lib/python3.7/dist-packages (from fiona>=1.8->geopandas) (1.1.1)\n",
            "Requirement already satisfied: attrs>=17 in /usr/local/lib/python3.7/dist-packages (from fiona>=1.8->geopandas) (22.1.0)\n",
            "Requirement already satisfied: six>=1.7 in /usr/local/lib/python3.7/dist-packages (from fiona>=1.8->geopandas) (1.15.0)\n",
            "Requirement already satisfied: setuptools in /usr/local/lib/python3.7/dist-packages (from fiona>=1.8->geopandas) (57.4.0)\n",
            "Requirement already satisfied: munch in /usr/local/lib/python3.7/dist-packages (from fiona>=1.8->geopandas) (2.5.0)\n",
            "Requirement already satisfied: cligj>=0.5 in /usr/local/lib/python3.7/dist-packages (from fiona>=1.8->geopandas) (0.7.2)\n",
            "Requirement already satisfied: certifi in /usr/local/lib/python3.7/dist-packages (from fiona>=1.8->geopandas) (2022.6.15)\n",
            "Requirement already satisfied: click>=4.0 in /usr/local/lib/python3.7/dist-packages (from fiona>=1.8->geopandas) (7.1.2)\n",
            "Requirement already satisfied: numpy>=1.17.3 in /usr/local/lib/python3.7/dist-packages (from pandas>=0.25.0->geopandas) (1.21.6)\n",
            "Requirement already satisfied: pytz>=2017.3 in /usr/local/lib/python3.7/dist-packages (from pandas>=0.25.0->geopandas) (2022.2.1)\n",
            "Requirement already satisfied: python-dateutil>=2.7.3 in /usr/local/lib/python3.7/dist-packages (from pandas>=0.25.0->geopandas) (2.8.2)\n"
          ]
        }
      ],
      "source": [
        "# Install Lib Geopandas \n",
        "!pip install geopandas"
      ]
    },
    {
      "cell_type": "code",
      "source": [
        "# clone git\n",
        "!git clone https://github.com/CityScope/CSL_HCMC"
      ],
      "metadata": {
        "id": "gNBRNOO76qQA",
        "colab": {
          "base_uri": "https://localhost:8080/"
        },
        "outputId": "eaee42a8-fda0-4848-9da7-8d450f083abf"
      },
      "execution_count": 2,
      "outputs": [
        {
          "output_type": "stream",
          "name": "stdout",
          "text": [
            "fatal: destination path 'CSL_HCMC' already exists and is not an empty directory.\n"
          ]
        }
      ]
    },
    {
      "cell_type": "code",
      "source": [
        "import geopandas as gpd\n",
        "import pandas as pd\n",
        "\n",
        "# Read data from shapefile\n",
        "df = gpd.read_file('CSL_HCMC/Data/GIS/Population/population_HCMC/population_shapefile/Population_Ward_Level.shp')\n",
        "df.info()\n",
        "df"
      ],
      "metadata": {
        "colab": {
          "base_uri": "https://localhost:8080/",
          "height": 768
        },
        "id": "vaVbPQkCEUNo",
        "outputId": "114c5d1a-ffcf-4190-cdca-be4b09e06eef"
      },
      "execution_count": 3,
      "outputs": [
        {
          "output_type": "stream",
          "name": "stdout",
          "text": [
            "<class 'geopandas.geodataframe.GeoDataFrame'>\n",
            "RangeIndex: 322 entries, 0 to 321\n",
            "Data columns (total 12 columns):\n",
            " #   Column      Non-Null Count  Dtype   \n",
            "---  ------      --------------  -----   \n",
            " 0   Com_Name    322 non-null    object  \n",
            " 1   Dist_Name   322 non-null    object  \n",
            " 2   Com_ID      322 non-null    object  \n",
            " 3   Dist_ID     322 non-null    object  \n",
            " 4   Level       322 non-null    object  \n",
            " 5   Pop_2009    322 non-null    float64 \n",
            " 6   Pop_2019    322 non-null    float64 \n",
            " 7   Den_2009    322 non-null    float64 \n",
            " 8   Den_2019    322 non-null    float64 \n",
            " 9   Shape_Leng  322 non-null    float64 \n",
            " 10  Shape_Area  322 non-null    float64 \n",
            " 11  geometry    322 non-null    geometry\n",
            "dtypes: float64(6), geometry(1), object(5)\n",
            "memory usage: 30.3+ KB\n"
          ]
        },
        {
          "output_type": "execute_result",
          "data": {
            "text/plain": [
              "             Com_Name    Dist_Name Com_ID Dist_ID Level  Pop_2009  Pop_2019  \\\n",
              "0            Tan Dinh   District 1  26734     760  Ward   26571.0   23258.0   \n",
              "1            Ben Nghe   District 1  26740     760  Ward   13580.0   10633.0   \n",
              "2        Cau Ong Lanh   District 1  26752     760  Ward   12917.0   10737.0   \n",
              "3    Nguyen Thai Binh   District 1  26746     760  Ward   13197.0    9716.0   \n",
              "4            Co Giang   District 1  26755     760  Ward   18967.0   11517.0   \n",
              "..                ...          ...    ...     ...   ...       ...       ...   \n",
              "317    Tan Hung Thuan  District 12  26787     761  Ward   28892.0   33467.0   \n",
              "318           Ward 17       Go Vap  26875     764  Ward   44226.0   54728.0   \n",
              "319            Ward 8       Go Vap  26898     764  Ward   26545.0   32778.0   \n",
              "320            Ward 9       Go Vap  26897     764  Ward   26785.0   34596.0   \n",
              "321           Ward 12       Go Vap  26881     764  Ward   50356.0   60502.0   \n",
              "\n",
              "     Den_2009  Den_2019   Shape_Leng    Shape_Area  \\\n",
              "0    41942.70  36713.10  3679.098196  6.334981e+05   \n",
              "1     5480.09   4290.86  6978.149149  2.478041e+06   \n",
              "2    56878.90  47279.50  2260.705105  2.270938e+05   \n",
              "3    26798.80  19730.00  3320.174618  4.924426e+05   \n",
              "4    53327.60  32381.20  2525.453814  3.556650e+05   \n",
              "..        ...       ...          ...           ...   \n",
              "317  16053.40  18595.50  6271.308704  1.799659e+06   \n",
              "318  38061.20  47099.30  6385.950275  1.161947e+06   \n",
              "319  22751.50  28093.70  5409.821020  1.166701e+06   \n",
              "320  31843.10  41129.20  3950.799798  8.411288e+05   \n",
              "321  35096.20  42167.60  4848.143508  1.434747e+06   \n",
              "\n",
              "                                              geometry  \n",
              "0    POLYGON ((684350.511 1193546.266, 684363.810 1...  \n",
              "1    POLYGON ((686564.657 1193462.473, 686588.924 1...  \n",
              "2    POLYGON ((685922.373 1190479.807, 685914.160 1...  \n",
              "3    POLYGON ((685966.333 1190513.667, 685944.353 1...  \n",
              "4    POLYGON ((685514.573 1190211.431, 685547.521 1...  \n",
              "..                                                 ...  \n",
              "317  POLYGON ((677816.513 1197206.772, 677796.932 1...  \n",
              "318  POLYGON ((683516.949 1200006.226, 683509.721 1...  \n",
              "319  POLYGON ((680928.492 1199066.285, 680984.889 1...  \n",
              "320  POLYGON ((681120.443 1199640.183, 681120.846 1...  \n",
              "321  POLYGON ((679970.916 1198480.707, 679932.874 1...  \n",
              "\n",
              "[322 rows x 12 columns]"
            ],
            "text/html": [
              "\n",
              "  <div id=\"df-870cbf24-5d3f-49c5-841e-1332073e3ac7\">\n",
              "    <div class=\"colab-df-container\">\n",
              "      <div>\n",
              "<style scoped>\n",
              "    .dataframe tbody tr th:only-of-type {\n",
              "        vertical-align: middle;\n",
              "    }\n",
              "\n",
              "    .dataframe tbody tr th {\n",
              "        vertical-align: top;\n",
              "    }\n",
              "\n",
              "    .dataframe thead th {\n",
              "        text-align: right;\n",
              "    }\n",
              "</style>\n",
              "<table border=\"1\" class=\"dataframe\">\n",
              "  <thead>\n",
              "    <tr style=\"text-align: right;\">\n",
              "      <th></th>\n",
              "      <th>Com_Name</th>\n",
              "      <th>Dist_Name</th>\n",
              "      <th>Com_ID</th>\n",
              "      <th>Dist_ID</th>\n",
              "      <th>Level</th>\n",
              "      <th>Pop_2009</th>\n",
              "      <th>Pop_2019</th>\n",
              "      <th>Den_2009</th>\n",
              "      <th>Den_2019</th>\n",
              "      <th>Shape_Leng</th>\n",
              "      <th>Shape_Area</th>\n",
              "      <th>geometry</th>\n",
              "    </tr>\n",
              "  </thead>\n",
              "  <tbody>\n",
              "    <tr>\n",
              "      <th>0</th>\n",
              "      <td>Tan Dinh</td>\n",
              "      <td>District 1</td>\n",
              "      <td>26734</td>\n",
              "      <td>760</td>\n",
              "      <td>Ward</td>\n",
              "      <td>26571.0</td>\n",
              "      <td>23258.0</td>\n",
              "      <td>41942.70</td>\n",
              "      <td>36713.10</td>\n",
              "      <td>3679.098196</td>\n",
              "      <td>6.334981e+05</td>\n",
              "      <td>POLYGON ((684350.511 1193546.266, 684363.810 1...</td>\n",
              "    </tr>\n",
              "    <tr>\n",
              "      <th>1</th>\n",
              "      <td>Ben Nghe</td>\n",
              "      <td>District 1</td>\n",
              "      <td>26740</td>\n",
              "      <td>760</td>\n",
              "      <td>Ward</td>\n",
              "      <td>13580.0</td>\n",
              "      <td>10633.0</td>\n",
              "      <td>5480.09</td>\n",
              "      <td>4290.86</td>\n",
              "      <td>6978.149149</td>\n",
              "      <td>2.478041e+06</td>\n",
              "      <td>POLYGON ((686564.657 1193462.473, 686588.924 1...</td>\n",
              "    </tr>\n",
              "    <tr>\n",
              "      <th>2</th>\n",
              "      <td>Cau Ong Lanh</td>\n",
              "      <td>District 1</td>\n",
              "      <td>26752</td>\n",
              "      <td>760</td>\n",
              "      <td>Ward</td>\n",
              "      <td>12917.0</td>\n",
              "      <td>10737.0</td>\n",
              "      <td>56878.90</td>\n",
              "      <td>47279.50</td>\n",
              "      <td>2260.705105</td>\n",
              "      <td>2.270938e+05</td>\n",
              "      <td>POLYGON ((685922.373 1190479.807, 685914.160 1...</td>\n",
              "    </tr>\n",
              "    <tr>\n",
              "      <th>3</th>\n",
              "      <td>Nguyen Thai Binh</td>\n",
              "      <td>District 1</td>\n",
              "      <td>26746</td>\n",
              "      <td>760</td>\n",
              "      <td>Ward</td>\n",
              "      <td>13197.0</td>\n",
              "      <td>9716.0</td>\n",
              "      <td>26798.80</td>\n",
              "      <td>19730.00</td>\n",
              "      <td>3320.174618</td>\n",
              "      <td>4.924426e+05</td>\n",
              "      <td>POLYGON ((685966.333 1190513.667, 685944.353 1...</td>\n",
              "    </tr>\n",
              "    <tr>\n",
              "      <th>4</th>\n",
              "      <td>Co Giang</td>\n",
              "      <td>District 1</td>\n",
              "      <td>26755</td>\n",
              "      <td>760</td>\n",
              "      <td>Ward</td>\n",
              "      <td>18967.0</td>\n",
              "      <td>11517.0</td>\n",
              "      <td>53327.60</td>\n",
              "      <td>32381.20</td>\n",
              "      <td>2525.453814</td>\n",
              "      <td>3.556650e+05</td>\n",
              "      <td>POLYGON ((685514.573 1190211.431, 685547.521 1...</td>\n",
              "    </tr>\n",
              "    <tr>\n",
              "      <th>...</th>\n",
              "      <td>...</td>\n",
              "      <td>...</td>\n",
              "      <td>...</td>\n",
              "      <td>...</td>\n",
              "      <td>...</td>\n",
              "      <td>...</td>\n",
              "      <td>...</td>\n",
              "      <td>...</td>\n",
              "      <td>...</td>\n",
              "      <td>...</td>\n",
              "      <td>...</td>\n",
              "      <td>...</td>\n",
              "    </tr>\n",
              "    <tr>\n",
              "      <th>317</th>\n",
              "      <td>Tan Hung Thuan</td>\n",
              "      <td>District 12</td>\n",
              "      <td>26787</td>\n",
              "      <td>761</td>\n",
              "      <td>Ward</td>\n",
              "      <td>28892.0</td>\n",
              "      <td>33467.0</td>\n",
              "      <td>16053.40</td>\n",
              "      <td>18595.50</td>\n",
              "      <td>6271.308704</td>\n",
              "      <td>1.799659e+06</td>\n",
              "      <td>POLYGON ((677816.513 1197206.772, 677796.932 1...</td>\n",
              "    </tr>\n",
              "    <tr>\n",
              "      <th>318</th>\n",
              "      <td>Ward 17</td>\n",
              "      <td>Go Vap</td>\n",
              "      <td>26875</td>\n",
              "      <td>764</td>\n",
              "      <td>Ward</td>\n",
              "      <td>44226.0</td>\n",
              "      <td>54728.0</td>\n",
              "      <td>38061.20</td>\n",
              "      <td>47099.30</td>\n",
              "      <td>6385.950275</td>\n",
              "      <td>1.161947e+06</td>\n",
              "      <td>POLYGON ((683516.949 1200006.226, 683509.721 1...</td>\n",
              "    </tr>\n",
              "    <tr>\n",
              "      <th>319</th>\n",
              "      <td>Ward 8</td>\n",
              "      <td>Go Vap</td>\n",
              "      <td>26898</td>\n",
              "      <td>764</td>\n",
              "      <td>Ward</td>\n",
              "      <td>26545.0</td>\n",
              "      <td>32778.0</td>\n",
              "      <td>22751.50</td>\n",
              "      <td>28093.70</td>\n",
              "      <td>5409.821020</td>\n",
              "      <td>1.166701e+06</td>\n",
              "      <td>POLYGON ((680928.492 1199066.285, 680984.889 1...</td>\n",
              "    </tr>\n",
              "    <tr>\n",
              "      <th>320</th>\n",
              "      <td>Ward 9</td>\n",
              "      <td>Go Vap</td>\n",
              "      <td>26897</td>\n",
              "      <td>764</td>\n",
              "      <td>Ward</td>\n",
              "      <td>26785.0</td>\n",
              "      <td>34596.0</td>\n",
              "      <td>31843.10</td>\n",
              "      <td>41129.20</td>\n",
              "      <td>3950.799798</td>\n",
              "      <td>8.411288e+05</td>\n",
              "      <td>POLYGON ((681120.443 1199640.183, 681120.846 1...</td>\n",
              "    </tr>\n",
              "    <tr>\n",
              "      <th>321</th>\n",
              "      <td>Ward 12</td>\n",
              "      <td>Go Vap</td>\n",
              "      <td>26881</td>\n",
              "      <td>764</td>\n",
              "      <td>Ward</td>\n",
              "      <td>50356.0</td>\n",
              "      <td>60502.0</td>\n",
              "      <td>35096.20</td>\n",
              "      <td>42167.60</td>\n",
              "      <td>4848.143508</td>\n",
              "      <td>1.434747e+06</td>\n",
              "      <td>POLYGON ((679970.916 1198480.707, 679932.874 1...</td>\n",
              "    </tr>\n",
              "  </tbody>\n",
              "</table>\n",
              "<p>322 rows × 12 columns</p>\n",
              "</div>\n",
              "      <button class=\"colab-df-convert\" onclick=\"convertToInteractive('df-870cbf24-5d3f-49c5-841e-1332073e3ac7')\"\n",
              "              title=\"Convert this dataframe to an interactive table.\"\n",
              "              style=\"display:none;\">\n",
              "        \n",
              "  <svg xmlns=\"http://www.w3.org/2000/svg\" height=\"24px\"viewBox=\"0 0 24 24\"\n",
              "       width=\"24px\">\n",
              "    <path d=\"M0 0h24v24H0V0z\" fill=\"none\"/>\n",
              "    <path d=\"M18.56 5.44l.94 2.06.94-2.06 2.06-.94-2.06-.94-.94-2.06-.94 2.06-2.06.94zm-11 1L8.5 8.5l.94-2.06 2.06-.94-2.06-.94L8.5 2.5l-.94 2.06-2.06.94zm10 10l.94 2.06.94-2.06 2.06-.94-2.06-.94-.94-2.06-.94 2.06-2.06.94z\"/><path d=\"M17.41 7.96l-1.37-1.37c-.4-.4-.92-.59-1.43-.59-.52 0-1.04.2-1.43.59L10.3 9.45l-7.72 7.72c-.78.78-.78 2.05 0 2.83L4 21.41c.39.39.9.59 1.41.59.51 0 1.02-.2 1.41-.59l7.78-7.78 2.81-2.81c.8-.78.8-2.07 0-2.86zM5.41 20L4 18.59l7.72-7.72 1.47 1.35L5.41 20z\"/>\n",
              "  </svg>\n",
              "      </button>\n",
              "      \n",
              "  <style>\n",
              "    .colab-df-container {\n",
              "      display:flex;\n",
              "      flex-wrap:wrap;\n",
              "      gap: 12px;\n",
              "    }\n",
              "\n",
              "    .colab-df-convert {\n",
              "      background-color: #E8F0FE;\n",
              "      border: none;\n",
              "      border-radius: 50%;\n",
              "      cursor: pointer;\n",
              "      display: none;\n",
              "      fill: #1967D2;\n",
              "      height: 32px;\n",
              "      padding: 0 0 0 0;\n",
              "      width: 32px;\n",
              "    }\n",
              "\n",
              "    .colab-df-convert:hover {\n",
              "      background-color: #E2EBFA;\n",
              "      box-shadow: 0px 1px 2px rgba(60, 64, 67, 0.3), 0px 1px 3px 1px rgba(60, 64, 67, 0.15);\n",
              "      fill: #174EA6;\n",
              "    }\n",
              "\n",
              "    [theme=dark] .colab-df-convert {\n",
              "      background-color: #3B4455;\n",
              "      fill: #D2E3FC;\n",
              "    }\n",
              "\n",
              "    [theme=dark] .colab-df-convert:hover {\n",
              "      background-color: #434B5C;\n",
              "      box-shadow: 0px 1px 3px 1px rgba(0, 0, 0, 0.15);\n",
              "      filter: drop-shadow(0px 1px 2px rgba(0, 0, 0, 0.3));\n",
              "      fill: #FFFFFF;\n",
              "    }\n",
              "  </style>\n",
              "\n",
              "      <script>\n",
              "        const buttonEl =\n",
              "          document.querySelector('#df-870cbf24-5d3f-49c5-841e-1332073e3ac7 button.colab-df-convert');\n",
              "        buttonEl.style.display =\n",
              "          google.colab.kernel.accessAllowed ? 'block' : 'none';\n",
              "\n",
              "        async function convertToInteractive(key) {\n",
              "          const element = document.querySelector('#df-870cbf24-5d3f-49c5-841e-1332073e3ac7');\n",
              "          const dataTable =\n",
              "            await google.colab.kernel.invokeFunction('convertToInteractive',\n",
              "                                                     [key], {});\n",
              "          if (!dataTable) return;\n",
              "\n",
              "          const docLinkHtml = 'Like what you see? Visit the ' +\n",
              "            '<a target=\"_blank\" href=https://colab.research.google.com/notebooks/data_table.ipynb>data table notebook</a>'\n",
              "            + ' to learn more about interactive tables.';\n",
              "          element.innerHTML = '';\n",
              "          dataTable['output_type'] = 'display_data';\n",
              "          await google.colab.output.renderOutput(dataTable, element);\n",
              "          const docLink = document.createElement('div');\n",
              "          docLink.innerHTML = docLinkHtml;\n",
              "          element.appendChild(docLink);\n",
              "        }\n",
              "      </script>\n",
              "    </div>\n",
              "  </div>\n",
              "  "
            ]
          },
          "metadata": {},
          "execution_count": 3
        }
      ]
    },
    {
      "cell_type": "code",
      "source": [
        "# Phường nào có diện tích lớn nhất\n",
        "idx = df['Shape_Area'].idxmax()\n",
        "print('Phường nào có diện tích lớn nhất :' , df['Com_Name'][idx], ',', df['Dist_Name'][idx])"
      ],
      "metadata": {
        "colab": {
          "base_uri": "https://localhost:8080/"
        },
        "id": "mLUi5vSfFl9I",
        "outputId": "30a3e382-bd7f-4516-bee0-277e57885164"
      },
      "execution_count": 4,
      "outputs": [
        {
          "output_type": "stream",
          "name": "stdout",
          "text": [
            "Phường nào có diện tích lớn nhất : Ly Nhon , Can Gio\n"
          ]
        }
      ]
    },
    {
      "cell_type": "code",
      "source": [
        "# Phường nào có diện tích nhỏ nhất\n",
        "idx = df['Shape_Area'].idxmin()\n",
        "print('Phường nào có diện tích nhỏ nhất :' , df['Com_Name'][idx], ',', df['Dist_Name'][idx])"
      ],
      "metadata": {
        "colab": {
          "base_uri": "https://localhost:8080/"
        },
        "id": "bYqI6N3MZW_B",
        "outputId": "79c341c0-98d8-4e6c-e1a0-dccd89416b4b"
      },
      "execution_count": 5,
      "outputs": [
        {
          "output_type": "stream",
          "name": "stdout",
          "text": [
            "Phường nào có diện tích nhỏ nhất : Ward 3 , District 10\n"
          ]
        }
      ]
    },
    {
      "cell_type": "code",
      "source": [
        "# Phường nào có dân số 2019 (Pop_2019) cao nhất\n",
        "idx = df['Pop_2019'].idxmax()\n",
        "print('Phường nào có dân số 2019 (Pop_2019) cao nhất :' , df['Com_Name'][idx], ',', df['Dist_Name'][idx])"
      ],
      "metadata": {
        "colab": {
          "base_uri": "https://localhost:8080/"
        },
        "id": "U5hx8J07KPki",
        "outputId": "f8ee242c-65a4-4e93-ee0a-bc4b9153e11f"
      },
      "execution_count": 6,
      "outputs": [
        {
          "output_type": "stream",
          "name": "stdout",
          "text": [
            "Phường nào có dân số 2019 (Pop_2019) cao nhất : Vinh Loc A , Binh Chanh\n"
          ]
        }
      ]
    },
    {
      "cell_type": "code",
      "source": [
        "# Phường nào có dân số thấp nhất (2019)\n",
        "idx = df['Pop_2019'].idxmin()\n",
        "print('Phường nào có dân số 2019 (Pop_2019) thấp nhất :' , df['Com_Name'][idx], ',', df['Dist_Name'][idx])"
      ],
      "metadata": {
        "colab": {
          "base_uri": "https://localhost:8080/"
        },
        "id": "N4CM4fHWMzFd",
        "outputId": "07a5d700-9fb2-411b-f0b8-49ba4649eced"
      },
      "execution_count": 7,
      "outputs": [
        {
          "output_type": "stream",
          "name": "stdout",
          "text": [
            "Phường nào có dân số 2019 (Pop_2019) thấp nhất : An Khanh , District 2\n"
          ]
        }
      ]
    },
    {
      "cell_type": "code",
      "source": [
        "# Phường nào có tốc độ tăng trưởng dân số nhanh nhất (dựa trên Pop_2009 và Pop_2019)\n",
        "idx = (df['Pop_2019']/df['Pop_2009']).idxmax()\n",
        "print('Phường nào có tốc độ tăng trưởng dân số nhanh nhất (dựa trên Pop_2009 và Pop_2019) :' , df['Com_Name'][idx], ',', df['Dist_Name'][idx])"
      ],
      "metadata": {
        "colab": {
          "base_uri": "https://localhost:8080/"
        },
        "id": "xGyH-VD0NC16",
        "outputId": "d3d5a593-544f-418b-e8db-d200b2876940"
      },
      "execution_count": 8,
      "outputs": [
        {
          "output_type": "stream",
          "name": "stdout",
          "text": [
            "Phường nào có tốc độ tăng trưởng dân số nhanh nhất (dựa trên Pop_2009 và Pop_2019) : Phu Huu , District 9\n"
          ]
        }
      ]
    },
    {
      "cell_type": "code",
      "source": [
        "# Phường nào có tốc độ tăng trưởng dân số thấp nhất\n",
        "idx = (df['Pop_2019']/df['Pop_2009']).idxmin()\n",
        "print('Phường nào có tốc độ tăng trưởng dân số thấp nhất :' , df['Com_Name'][idx], ',', df['Dist_Name'][idx])"
      ],
      "metadata": {
        "colab": {
          "base_uri": "https://localhost:8080/"
        },
        "id": "TRcCTIDCOh2G",
        "outputId": "d44196a2-7890-41a6-b8fb-5894d3cc5c7a"
      },
      "execution_count": 9,
      "outputs": [
        {
          "output_type": "stream",
          "name": "stdout",
          "text": [
            "Phường nào có tốc độ tăng trưởng dân số thấp nhất : An Khanh , District 2\n"
          ]
        }
      ]
    },
    {
      "cell_type": "code",
      "source": [
        "# Phường nào có biến động dân số nhanh nhất\n",
        "idx = (abs(df['Pop_2019']-df['Pop_2009'])).idxmax()\n",
        "print('Phường nào có biến động dân số nhanh nhất :' , df['Com_Name'][idx], ',', df['Dist_Name'][idx])"
      ],
      "metadata": {
        "colab": {
          "base_uri": "https://localhost:8080/"
        },
        "id": "DSUGZkJHO7N1",
        "outputId": "0a2945ac-4c5c-4d17-f9c5-55e7c43e0f09"
      },
      "execution_count": 10,
      "outputs": [
        {
          "output_type": "stream",
          "name": "stdout",
          "text": [
            "Phường nào có biến động dân số nhanh nhất : Vinh Loc A , Binh Chanh\n"
          ]
        }
      ]
    },
    {
      "cell_type": "code",
      "source": [
        "# Phường nào có biến động dân số chậm nhất\n",
        "idx = (abs(df['Pop_2019']-df['Pop_2009'])).idxmin()\n",
        "print('Phường nào có biến động dân số chậm nhất :' , df['Com_Name'][idx], ',', df['Dist_Name'][idx])"
      ],
      "metadata": {
        "colab": {
          "base_uri": "https://localhost:8080/"
        },
        "id": "y8dA6W_FQAON",
        "outputId": "f8424ee6-a0cf-4091-d7ef-a05ab192aee3"
      },
      "execution_count": 11,
      "outputs": [
        {
          "output_type": "stream",
          "name": "stdout",
          "text": [
            "Phường nào có biến động dân số chậm nhất : Ward 2 , Binh Thanh\n"
          ]
        }
      ]
    },
    {
      "cell_type": "code",
      "source": [
        "# Phường nào có mật độ dân số cao nhất (2019)\n",
        "idx = (df['Den_2019']).idxmax()\n",
        "print('Phường nào có mật độ dân số cao nhất (2019) :' , df['Com_Name'][idx], ',', df['Dist_Name'][idx])"
      ],
      "metadata": {
        "colab": {
          "base_uri": "https://localhost:8080/"
        },
        "id": "yZx1sxZqTTFu",
        "outputId": "6883dbab-3413-4132-f3d4-cf762c7cc50e"
      },
      "execution_count": 12,
      "outputs": [
        {
          "output_type": "stream",
          "name": "stdout",
          "text": [
            "Phường nào có mật độ dân số cao nhất (2019) : Ward 8 , District 4\n"
          ]
        }
      ]
    },
    {
      "cell_type": "code",
      "source": [
        "# Phường nào có mật độ dân số thấp nhất (2019)\n",
        "idx = (df['Den_2019']).idxmin()\n",
        "print('Phường nào có mật độ dân số thấp nhất (2019) :' , df['Com_Name'][idx], ',', df['Dist_Name'][idx])"
      ],
      "metadata": {
        "colab": {
          "base_uri": "https://localhost:8080/"
        },
        "id": "aPsxHFEbVsf9",
        "outputId": "63b5a5fe-153d-41f7-bee9-bf4a7214fbfa"
      },
      "execution_count": 13,
      "outputs": [
        {
          "output_type": "stream",
          "name": "stdout",
          "text": [
            "Phường nào có mật độ dân số thấp nhất (2019) : Ly Nhon , Can Gio\n"
          ]
        }
      ]
    }
  ]
}